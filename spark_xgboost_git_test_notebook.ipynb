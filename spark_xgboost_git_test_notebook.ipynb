{
 "cells": [
  {
   "cell_type": "code",
   "execution_count": 0,
   "metadata": {
    "application/vnd.databricks.v1+cell": {
     "cellMetadata": {
      "byteLimit": 2048000,
      "rowLimit": 10000
     },
     "inputWidgets": {},
     "nuid": "f0b4dc49-e62c-4819-b834-992860835cb3",
     "showTitle": false,
     "title": ""
    }
   },
   "outputs": [],
   "source": [
    "from pyspark.sql import SparkSession\n",
    "from pyspark.ml.feature import VectorAssembler\n",
    "from xgboost.spark import SparkXGBClassifier\n",
    "from pyspark.ml import Pipeline\n",
    "\n",
    "# Sample data\n",
    "data = [\n",
    "    (1, 1.0, 0.1, 0.2, 0.3),\n",
    "    (0, 0.2, 0.1, 0.4, 0.4),\n",
    "    (1, 0.3, 0.2, 0.5, 0.5),\n",
    "    (0, 0.4, 0.3, 0.6, 0.6),\n",
    "    (1, 0.5, 0.4, 0.7, 0.7),\n",
    "]\n",
    "\n",
    "# Create DataFrame\n",
    "columns = [\"label\", \"feature1\", \"feature2\", \"feature3\", \"feature4\"]\n",
    "df = spark.createDataFrame(data, columns)\n",
    "\n",
    "# Assemble features into a single vector column\n",
    "assembler = VectorAssembler(\n",
    "    inputCols=[\"feature1\", \"feature2\", \"feature3\", \"feature4\"],\n",
    "    outputCol=\"features\"\n",
    ")\n",
    "\n",
    "# Define the XGBoost classifier\n",
    "xgb_classifier = SparkXGBClassifier(\n",
    "    features_col=\"features\",\n",
    "    label_col=\"label\",\n",
    "    prediction_col=\"prediction\",\n",
    "    max_depth=3,\n",
    "    eta=0.1,\n",
    "    num_round=100\n",
    ")\n",
    "\n",
    "# Create a pipeline\n",
    "pipeline = Pipeline(stages=[assembler, xgb_classifier])\n",
    "\n",
    "# Train the model\n",
    "model = pipeline.fit(df)\n",
    "\n",
    "# Make predictions\n",
    "predictions = model.transform(df)\n",
    "\n",
    "# Show predictions\n",
    "display(predictions.select(\"label\", \"features\", \"prediction\"))"
   ]
  },
  {
   "cell_type": "code",
   "execution_count": 0,
   "metadata": {
    "application/vnd.databricks.v1+cell": {
     "cellMetadata": {},
     "inputWidgets": {},
     "nuid": "d2a50600-0bc5-41e9-a6c1-cde313fa4c18",
     "showTitle": false,
     "title": ""
    }
   },
   "outputs": [],
   "source": []
  }
 ],
 "metadata": {
  "application/vnd.databricks.v1+notebook": {
   "dashboards": [],
   "environmentMetadata": null,
   "language": "python",
   "notebookMetadata": {
    "pythonIndentUnit": 2
   },
   "notebookName": "spark_xgboost_git_test_notebook",
   "widgets": {}
  }
 },
 "nbformat": 4,
 "nbformat_minor": 0
}
